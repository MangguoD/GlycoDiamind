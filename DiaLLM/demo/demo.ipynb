{
 "cells": [
  {
   "cell_type": "code",
   "execution_count": null,
   "id": "8652b881-11a4-4832-808d-79c37a59b66e",
   "metadata": {
    "editable": true,
    "slideshow": {
     "slide_type": ""
    },
    "tags": []
   },
   "outputs": [
    {
     "data": {
      "application/vnd.jupyter.widget-view+json": {
       "model_id": "7e729b32c0924d41b29b18294ad388fc",
       "version_major": 2,
       "version_minor": 0
      },
      "text/plain": [
       "Loading checkpoint shards:   0%|          | 0/4 [00:00<?, ?it/s]"
      ]
     },
     "metadata": {},
     "output_type": "display_data"
    },
    {
     "name": "stdin",
     "output_type": "stream",
     "text": [
      "\n",
      "Enter your prompt (or type 'exit' to quit):  基本情况：年龄：65；性别：男；类型：红标。监测情况：第1次回访：监测内容：血糖；空腹空腹血糖为9.0mmol/L；第2次回访：监测内容：体征（身高、体重），血压；收缩压为111.0mmHg；舒张压为66.0mmHg；BMI为20.42；第3次回访：监测内容：血糖；早餐后非空腹血糖为8.7mmol/L。\n"
     ]
    },
    {
     "name": "stdout",
     "output_type": "stream",
     "text": [
      "Thinking... \n",
      "LLM Response: \n",
      "您的第1次反馈结果如下：\n",
      "医生针对您的情况进行的风险评估：10年心脑血管意外风险（ICVD改良，例如心梗和卒中等事件风险）评估为0%～0%，是同龄健康人的0倍，但积极的综合干预能使风险减少0%左右，降低到0%～0%。\n",
      "您当前的血糖异常情况为：正常\n",
      "建议监测时间为：早餐后、空腹\n",
      "对您提出的健康建议如下：1.结合您的年龄，近期血糖控制尚可，建议继续监测空腹血糖和餐后2小时血糖，近期可检测糖化血红蛋白，了解近3个月的血糖水平，并随时联系专科医师复诊；\n",
      "2.坚持规律用药，注意测量血压；\n",
      "3.注意糖尿病饮食，适量运动（参考随后为您出具的糖尿病饮食方案和运动方案）； \n",
      "4.保持心情舒畅，定期复查，如有不适及时就医。\n",
      "建议您每日总卡路里摄入在2250左右，\n",
      "每日碳水化合物摄入281至366克，\n",
      "每日蛋白质摄入84至113克，\n",
      "每日脂肪摄入50至75克，\n",
      "建议您每日通过运动消耗147.0卡路里。建议您每日通过运动消耗147.0卡路里。对您提出的运动建议如下：如何选择适合自己的运动：\n",
      "在选择运动方式时，要考虑到年龄、性别、体质、生活方式等的不同，因人而异、因时制宜，选择个体化的运动方式。\n",
      "总体来说，糖尿病患者的运动应具备三个特点: 适量、全身性、有节奏。有氧运动就同时具备这三个特点，而且强度低、持续时间长，可以达到让人呼吸急促又不会气喘吁吁的程度，使人微微出汗又不会大汗淋漓。\n",
      "综合来说，适合大多数糖尿病患者的运动有做操、打拳、慢跑、快走、踢建子、打羽毛球、打乒乓球、跳交谊舞等，既能锻炼身体，又能让人放松心情，还便于长期坚持。运动时的心率一般控制在每分钟130到150下，年龄越大，心率控制得越低。\n",
      "运动前自测血压，如高于140/90毫米汞柱，不适宜进行运动；如低于130/80毫米汞柱，可适当增加运动强度。运动后自测血压，如高于180/100毫米汞柱，应立即停止运动，待血压恢复正常后再继续运动。\n",
      "您当前的血糖异常情况为：正常\n",
      "建议监测时间为：早餐后、空腹\n",
      "对您提出的健康建议如下：1.结合您的年龄，近期血糖控制尚可，建议继续监测空腹血糖和餐后2小时血糖，近期可检测糖化血红蛋白，了解近3个月的血糖水平，并随时联系专科医师复诊；\n",
      "2.坚持规律用药，注意测量血压；\n",
      "3.注意糖尿病饮食，适量运动（参考随后为您出具的糖尿病饮食方案和运动方案）； \n",
      "4.保持心情舒畅，定期复查，如有不适及时就医。\n",
      "建议您每日总卡路里摄入在2250左右，\n",
      "每日碳水化合物摄入281至366克，\n",
      "每日蛋白质摄入84至113克，\n",
      "每日脂肪摄入50至75克，\n",
      "建议您每日通过运动消耗147.0卡路里。建议您每日通过运动消耗147.0卡路里。如何选择适合自己的运动：\n",
      "在选择运动方式时，要考虑到年龄、性别、体质、生活方式等的不同，因人而异、因时制宜，选择个体化的运动方式。\n",
      "总体来说，糖尿病患者的运动应具备三个特点: 适量、全身性、有节奏。有氧运动就同时具备这三个特点，而且强度低、持续时间长，可以达到让人呼吸急促又不会气喘吁吁的程度，使人微微出汗又不会大汗淋漓。\n",
      "综合来说，适合大多数糖尿病患者的运动有做操、打拳、慢跑、快走、踢建子、打羽毛球、打乒乓球、跳交谊舞等，既能锻炼身体，又能让人放松心情\n",
      "*内容由AI生成,仅供参考,请结合医生诊断采用,祝您身体健康*\n",
      "\n"
     ]
    },
    {
     "name": "stdin",
     "output_type": "stream",
     "text": [
      "\n",
      "Enter your prompt (or type 'exit' to quit):  基本情况：年龄：65；性别：男；类型：红标。监测情况：第1次回访：监测内容：血糖；空腹空腹血糖为9.0mmol/L；第2次回访：监测内容：体征（身高、体重），血压；收缩压为111.0mmHg；舒张压为66.0mmHg；BMI为20.42；第3次回访：监测内容：血糖；早餐后非空腹血糖为8.7mmol/L。\n"
     ]
    },
    {
     "name": "stdout",
     "output_type": "stream",
     "text": [
      "Thinking... "
     ]
    }
   ],
   "source": [
    "import sys\n",
    "import time\n",
    "import threading\n",
    "from transformers import AutoModelForCausalLM, AutoTokenizer\n",
    "import torch\n",
    "\n",
    "# 模型版本随训练更新\n",
    "model_path = \"../../autodl-tmp/DiabetesPDiagLLM\"\n",
    "\n",
    "device = torch.device(\"cuda\" if torch.cuda.is_available() else \"cpu\")\n",
    "\n",
    "tokenizer = AutoTokenizer.from_pretrained(model_path,trust_remote_code=True)\n",
    "tokenizer.padding_side=\"left\"\n",
    "tokenizer.pad_token=\"[PAD]\"\n",
    "tokenizer.add_special_tokens({'pad_token': '[PAD]'})\n",
    "model = AutoModelForCausalLM.from_pretrained(\n",
    "    model_path,\n",
    "    torch_dtype=torch.bfloat16,\n",
    "    low_cpu_mem_usage=True,\n",
    "    trust_remote_code=True\n",
    ").to(device).eval()\n",
    "\n",
    "def loading_indicator():\n",
    "    \"\"\"Displays a loading indicator while waiting for the LLM response.\"\"\"\n",
    "    while not stop_loading:\n",
    "        sys.stdout.write(\"\\rThinking... \")\n",
    "        sys.stdout.flush()\n",
    "        time.sleep(0.5)\n",
    "    sys.stdout.write(\"\\r\")\n",
    "    sys.stdout.flush()\n",
    "\n",
    "def query_llm(prompt):\n",
    "    global stop_loading\n",
    "    stop_loading = False\n",
    "    loader_thread = threading.Thread(target=loading_indicator)\n",
    "    loader_thread.start()\n",
    "    \"\"\"Sends the prompt to the LLM and returns the response.\"\"\"\n",
    "    messages = [{\n",
    "                \"role\": \"system\",\n",
    "                \"content\": \"你是一个专业的医生，你的任务是：1.风险评估：根据患者病情病例，输出相应的医疗风险评估。2.健康建议：结合患者的年龄、近期血糖控制情况、血压等并发症情况、用药与依从性情况等，给出专业的健康建议。3.饮食运动建议：根据患者 BMI 以及体检情况计算每日建议摄入的卡路里，结合患者体质给出每日运动相关建议。请基于诊疗指南，为以下患者提供综合的管理意见（不要输出重复内容）:\"\n",
    "            },\n",
    "            {\n",
    "                \"role\": \"user\",\n",
    "                \"content\": prompt\n",
    "            }\n",
    "           ]\n",
    "\n",
    "    inputs = tokenizer.apply_chat_template(messages,\n",
    "                                       add_generation_prompt=True,\n",
    "                                       tokenize=True,\n",
    "                                       return_tensors=\"pt\",\n",
    "                                       return_dict=True\n",
    "                                       )\n",
    "    inputs = inputs.to(device)\n",
    "\n",
    "    gen_kwargs = {\"max_length\": 1024, \"do_sample\": True, \"top_k\": 1}\n",
    "    # 在输出长度不够的时候更改max_length\n",
    "    output = \"\"\n",
    "    with torch.no_grad():\n",
    "        outputs = model.generate(**inputs, **gen_kwargs)\n",
    "        outputs = outputs[:, inputs['input_ids'].shape[1]:]\n",
    "        output =  tokenizer.decode(outputs[0], skip_special_tokens=True)\n",
    "\n",
    "    stop_loading = True\n",
    "    loader_thread.join()\n",
    "    return output\n",
    "\n",
    "while True:\n",
    "    user_input = input(\"\\nEnter your prompt (or type 'exit' to quit): \")\n",
    "    if user_input.lower() == \"exit\":\n",
    "        print(\"Have a nice day!\")\n",
    "        break\n",
    "    response = query_llm(user_input)\n",
    "    print(\"\\nLLM Response:\", response)\n",
    "    print(\"*内容由AI生成,仅供参考,请结合医生诊断采用,祝您身体健康*\\n\")"
   ]
  },
  {
   "cell_type": "code",
   "execution_count": null,
   "id": "f1af48aa-8180-4801-a1f1-355201fe3776",
   "metadata": {},
   "outputs": [],
   "source": []
  }
 ],
 "metadata": {
  "kernelspec": {
   "display_name": "Python 3 (ipykernel)",
   "language": "python",
   "name": "python3"
  },
  "language_info": {
   "codemirror_mode": {
    "name": "ipython",
    "version": 3
   },
   "file_extension": ".py",
   "mimetype": "text/x-python",
   "name": "python",
   "nbconvert_exporter": "python",
   "pygments_lexer": "ipython3",
   "version": "3.12.3"
  }
 },
 "nbformat": 4,
 "nbformat_minor": 5
}
